{
 "cells": [
  {
   "cell_type": "code",
   "execution_count": 1,
   "metadata": {
    "collapsed": false
   },
   "outputs": [
    {
     "data": {
      "text/plain": [
       "'C:\\\\Users\\\\cop15rj\\\\IdeaProjects\\\\rishav-msc-project\\\\notebooks'"
      ]
     },
     "execution_count": 1,
     "metadata": {},
     "output_type": "execute_result"
    }
   ],
   "source": [
    "import os\n",
    "os.getcwd()"
   ]
  },
  {
   "cell_type": "code",
   "execution_count": 2,
   "metadata": {
    "collapsed": true
   },
   "outputs": [],
   "source": [
    "os.chdir('C:\\\\Users\\\\cop15rj\\\\IdeaProjects\\\\rishav-msc-project')"
   ]
  },
  {
   "cell_type": "code",
   "execution_count": 3,
   "metadata": {
    "collapsed": true
   },
   "outputs": [],
   "source": [
    "import numpy as np"
   ]
  },
  {
   "cell_type": "code",
   "execution_count": 4,
   "metadata": {
    "collapsed": false
   },
   "outputs": [],
   "source": [
    "# read the embeddings\n",
    "\n",
    "VEC_FILE = 'data/vecs.npy'\n",
    "VOCAB_FILE = 'data/vecs.vocab'\n",
    "\n",
    "vecs = np.load(VEC_FILE)\n",
    "vocab = open(VOCAB_FILE).read().split()\n",
    "word2vec = {w:i for i,w in enumerate(vocab)}\n",
    "\n",
    "WVEC_FILE = 'data/contexts.npy'\n",
    "CONTEXT_FILE = 'data/contexts.vocab'\n",
    "\n",
    "cvecs = np.load(WVEC_FILE)\n",
    "context = open(CONTEXT_FILE).read().split()\n",
    "content2vec = {w:i for i,w in enumerate(context)}"
   ]
  },
  {
   "cell_type": "code",
   "execution_count": 5,
   "metadata": {
    "collapsed": false
   },
   "outputs": [],
   "source": [
    "# print('vecs', vecs)\n",
    "# print('vocab', vocab)\n",
    "# print('word2vec', word2vec)"
   ]
  },
  {
   "cell_type": "code",
   "execution_count": 6,
   "metadata": {
    "collapsed": false
   },
   "outputs": [],
   "source": [
    "# print('cvecs', cvecs)\n",
    "# print('context', context)\n",
    "# print('content2vec', content2vec)"
   ]
  },
  {
   "cell_type": "code",
   "execution_count": 7,
   "metadata": {
    "collapsed": false
   },
   "outputs": [],
   "source": [
    "def ugly_normalize(vecs):\n",
    "   normalizers = np.sqrt((vecs * vecs).sum(axis=1))\n",
    "   normalizers[normalizers==0]=1\n",
    "   return (vecs.T / normalizers).T"
   ]
  },
  {
   "cell_type": "code",
   "execution_count": 10,
   "metadata": {
    "collapsed": false
   },
   "outputs": [
    {
     "name": "stdout",
     "output_type": "stream",
     "text": [
      "['1\\tDuring\\t_\\tIN\\t_\\t3\\tcase\\n']\n",
      "['1\\tDuring\\t_\\tIN\\t_\\t3\\tcase\\n', '1\\tDuring\\t_\\tIN\\t_\\t3\\tcase\\n']\n",
      "['1\\tDuring\\t_\\tIN\\t_\\t3\\tcase\\n', '1\\tDuring\\t_\\tIN\\t_\\t3\\tcase\\n', '1\\tDuring\\t_\\tIN\\t_\\t3\\tcase\\n']\n",
      "['1\\tDuring\\t_\\tIN\\t_\\t3\\tcase\\n', '1\\tDuring\\t_\\tIN\\t_\\t3\\tcase\\n', '1\\tDuring\\t_\\tIN\\t_\\t3\\tcase\\n', '1\\tDuring\\t_\\tIN\\t_\\t3\\tcase\\n']\n",
      "['1\\tDuring\\t_\\tIN\\t_\\t3\\tcase\\n', '1\\tDuring\\t_\\tIN\\t_\\t3\\tcase\\n', '1\\tDuring\\t_\\tIN\\t_\\t3\\tcase\\n', '1\\tDuring\\t_\\tIN\\t_\\t3\\tcase\\n', '1\\tDuring\\t_\\tIN\\t_\\t3\\tcase\\n']\n",
      "['1\\tDuring\\t_\\tIN\\t_\\t3\\tcase\\n', '1\\tDuring\\t_\\tIN\\t_\\t3\\tcase\\n', '1\\tDuring\\t_\\tIN\\t_\\t3\\tcase\\n', '1\\tDuring\\t_\\tIN\\t_\\t3\\tcase\\n', '1\\tDuring\\t_\\tIN\\t_\\t3\\tcase\\n', '1\\tDuring\\t_\\tIN\\t_\\t3\\tcase\\n']\n",
      "['1\\tDuring\\t_\\tIN\\t_\\t3\\tcase\\n', '1\\tDuring\\t_\\tIN\\t_\\t3\\tcase\\n', '1\\tDuring\\t_\\tIN\\t_\\t3\\tcase\\n', '1\\tDuring\\t_\\tIN\\t_\\t3\\tcase\\n', '1\\tDuring\\t_\\tIN\\t_\\t3\\tcase\\n', '1\\tDuring\\t_\\tIN\\t_\\t3\\tcase\\n', '1\\tDuring\\t_\\tIN\\t_\\t3\\tcase\\n']\n",
      "['1\\tDuring\\t_\\tIN\\t_\\t3\\tcase\\n', '1\\tDuring\\t_\\tIN\\t_\\t3\\tcase\\n', '1\\tDuring\\t_\\tIN\\t_\\t3\\tcase\\n', '1\\tDuring\\t_\\tIN\\t_\\t3\\tcase\\n', '1\\tDuring\\t_\\tIN\\t_\\t3\\tcase\\n', '1\\tDuring\\t_\\tIN\\t_\\t3\\tcase\\n', '1\\tDuring\\t_\\tIN\\t_\\t3\\tcase\\n', '1\\tDuring\\t_\\tIN\\t_\\t3\\tcase\\n']\n",
      "['1\\tDuring\\t_\\tIN\\t_\\t3\\tcase\\n', '1\\tDuring\\t_\\tIN\\t_\\t3\\tcase\\n', '1\\tDuring\\t_\\tIN\\t_\\t3\\tcase\\n', '1\\tDuring\\t_\\tIN\\t_\\t3\\tcase\\n', '1\\tDuring\\t_\\tIN\\t_\\t3\\tcase\\n', '1\\tDuring\\t_\\tIN\\t_\\t3\\tcase\\n', '1\\tDuring\\t_\\tIN\\t_\\t3\\tcase\\n', '1\\tDuring\\t_\\tIN\\t_\\t3\\tcase\\n', '1\\tDuring\\t_\\tIN\\t_\\t3\\tcase\\n']\n",
      "['1\\tDuring\\t_\\tIN\\t_\\t3\\tcase\\n', '1\\tDuring\\t_\\tIN\\t_\\t3\\tcase\\n', '1\\tDuring\\t_\\tIN\\t_\\t3\\tcase\\n', '1\\tDuring\\t_\\tIN\\t_\\t3\\tcase\\n', '1\\tDuring\\t_\\tIN\\t_\\t3\\tcase\\n', '1\\tDuring\\t_\\tIN\\t_\\t3\\tcase\\n', '1\\tDuring\\t_\\tIN\\t_\\t3\\tcase\\n', '1\\tDuring\\t_\\tIN\\t_\\t3\\tcase\\n', '1\\tDuring\\t_\\tIN\\t_\\t3\\tcase\\n', '1\\tDuring\\t_\\tIN\\t_\\t3\\tcase\\n']\n",
      "['1\\tDuring\\t_\\tIN\\t_\\t3\\tcase\\n', '1\\tDuring\\t_\\tIN\\t_\\t3\\tcase\\n', '1\\tDuring\\t_\\tIN\\t_\\t3\\tcase\\n', '1\\tDuring\\t_\\tIN\\t_\\t3\\tcase\\n', '1\\tDuring\\t_\\tIN\\t_\\t3\\tcase\\n', '1\\tDuring\\t_\\tIN\\t_\\t3\\tcase\\n', '1\\tDuring\\t_\\tIN\\t_\\t3\\tcase\\n', '1\\tDuring\\t_\\tIN\\t_\\t3\\tcase\\n', '1\\tDuring\\t_\\tIN\\t_\\t3\\tcase\\n', '1\\tDuring\\t_\\tIN\\t_\\t3\\tcase\\n']\n"
     ]
    }
   ],
   "source": [
    "import pickle\n",
    "import xml.etree.ElementTree as ET\n",
    "import re\n",
    "from word2vecf_scripts.extract_deps import read_conll\n",
    "\n",
    "TARGET_FILE = 'evaluate/data/target.txt'\n",
    "SUBSTITUTES_FILE = 'evaluate/data/substitutes.data'\n",
    "INPUT_CONLL_FILE = 'evaluate/data/sentences.txt.conll'\n",
    "# INPUT_FILE = 'evaluate/taskdata/trial/lexsub_trial.xml'\n",
    "\n",
    "substitutes = pickle.load(open(SUBSTITUTES_FILE, 'rb'))\n",
    "# print('substitutes',':',substitutes)\n",
    "\n",
    "conllFile = open(INPUT_CONLL_FILE)\n",
    "\n",
    "i = 0\n",
    "for line in conllFile:\n",
    "    sentence = []\n",
    "    while line and line != '\\n':\n",
    "        sentence.append(line)\n",
    "        print(sentence)\n",
    "        \n",
    "        i+=1\n",
    "        \n",
    "        if i==10:\n",
    "            break\n",
    "\n",
    "# xmlTree = ET.parse(INPUT_FILE)\n",
    "# \n",
    "# root = xmlTree.getroot()\n",
    "# \n",
    "# for lexelt in root:\n",
    "#     # print('lexelt.item', ':', lexelt.attrib['item'])\n",
    "# \n",
    "#     for instance in lexelt:\n",
    "#         # print('instance.id', ':', instance.attrib['id'])\n",
    "# \n",
    "#         for context in instance:\n",
    "#             # print('context', ':', xml.etree.ElementTree.tostring(context))\n",
    "#             contextStr = ET.tostring(context).decode()\n",
    "#             contextStr = contextStr.strip().replace('<context>', '').replace('</context>', '')\n",
    "# \n",
    "#             # print('contextStr', ':', contextStr)\n",
    "# \n",
    "#             t = re.findall('<head>.+</head>', contextStr)[0]\n",
    "#             # print('t', ':', t.strip('</head>'))\n",
    "# \n",
    "#             contextStr = contextStr.replace(t, t.strip('</head>'))\n",
    "#             # print('contextStr', ':', contextStr)"
   ]
  },
  {
   "cell_type": "code",
   "execution_count": null,
   "metadata": {
    "collapsed": false
   },
   "outputs": [],
   "source": [
    ""
   ]
  },
  {
   "cell_type": "code",
   "execution_count": null,
   "metadata": {
    "collapsed": true
   },
   "outputs": [],
   "source": [
    ""
   ]
  }
 ],
 "metadata": {
  "kernelspec": {
   "display_name": "Python 3",
   "language": "python",
   "name": "python3"
  },
  "language_info": {
   "codemirror_mode": {
    "name": "ipython",
    "version": 3.0
   },
   "file_extension": ".py",
   "mimetype": "text/x-python",
   "name": "python",
   "nbconvert_exporter": "python",
   "pygments_lexer": "ipython3",
   "version": "3.4.3"
  }
 },
 "nbformat": 4,
 "nbformat_minor": 0
}